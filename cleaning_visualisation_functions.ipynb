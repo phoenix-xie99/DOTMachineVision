{
 "cells": [
  {
   "cell_type": "code",
   "execution_count": 2,
   "metadata": {},
   "outputs": [],
   "source": [
    "import pandas as pd\n",
    "import matplotlib.pyplot as plt\n",
    "import numpy as np\n",
    "from skimage.io import imread,imshow\n",
    "import sqlite3\n",
    "from os import listdir\n",
    "from pathlib import Path\n",
    "import cv2\n",
    "from scipy.stats import gaussian_kde"
   ]
  },
  {
   "cell_type": "code",
   "execution_count": 3,
   "metadata": {},
   "outputs": [],
   "source": [
    "schemaMat = np.array([[366,641],[1463,641],[366,3018],[1463,3018]])\n",
    "schema = imread('schema.png')\n",
    "schemaHalf = cv2.imread('schema.png')\n",
    "schemaHalf =schemaHalf[1829:3658,0:1829]"
   ]
  },
  {
   "cell_type": "markdown",
   "metadata": {},
   "source": [
    "# Functions for creating new xy coordinates using homography matrix"
   ]
  },
  {
   "cell_type": "code",
   "execution_count": 9,
   "metadata": {},
   "outputs": [],
   "source": [
    "metaMaster = pd.read_csv('metaMaster.csv')\n",
    "schemaMat = np.array([[366,641],[1463,641],[366,3018],[1463,3018]])\n"
   ]
  },
  {
   "cell_type": "code",
   "execution_count": 3,
   "metadata": {},
   "outputs": [],
   "source": [
    "def homography(dataset, schmat):\n",
    "    #isolate the court corner coordinates\n",
    "    footMats = dataset.iloc[:,4:12]\n",
    "    #create a numpy array of (4,2) using the corner coordinates for each rally\n",
    "    footMats['mat'] = footMats.apply(lambda row: np.array([row['TLx'],row['TLy'],row['TRx'],row['TRy'],row['BLx'],row['BLy'],row['BRx'],row['BRy']]).reshape(4,2),axis=1)\n",
    "    footMats = footMats.drop(footMats.columns[0:8],axis=1)\n",
    "    #using cv2.findHomography, save the homography matrix for each rally to translate onto tennis court schema\n",
    "    footMats['homog'] = footMats.apply(lambda row: cv2.findHomography(row['mat'],schmat)[0],axis=1)\n",
    "    \n",
    "    return footMats['homog']"
   ]
  },
  {
   "cell_type": "code",
   "execution_count": 4,
   "metadata": {},
   "outputs": [],
   "source": [
    "def inputXY(row, xcol, ycol):\n",
    "    xy = row[[xcol,ycol]]\n",
    "    scalarxy = np.array([xy[0],xy[1],1]).reshape(3,1)\n",
    "    \n",
    "    return scalarxy\n",
    "\n",
    "\n",
    "#Inputs, row from bbplayer & row from homog\n",
    "\n",
    "#Outputs x & y translated player coordinates\n",
    "\n",
    "def tXYdb(plaXY, homRow, xtoT, ytoT):\n",
    "    playerScalar = inputXY(plaXY, xtoT, ytoT)\n",
    "    \n",
    "    transXY = np.dot(homRow, playerScalar)\n",
    "    \n",
    "    transXY = transXY/transXY[2]\n",
    "    \n",
    "    return transXY[0:2]\n",
    "\n",
    "\n",
    "\n",
    "\n",
    "\n",
    "def appendNewXYDB(playerData, homDat, xlab, ylab, newx = 'fX', newy= 'fY'):\n",
    "    playerData[newx] = playerData.apply(lambda row: tXYdb(row, homDat, xlab, ylab)[0][0], axis =1)\n",
    "    playerData[newy] = playerData.apply(lambda row: tXYdb(row, homDat, xlab, ylab)[1][0], axis =1)\n",
    "    \n",
    "    return playerData"
   ]
  },
  {
   "cell_type": "markdown",
   "metadata": {},
   "source": [
    "# Function to extract dataframe from .pitg files"
   ]
  },
  {
   "cell_type": "code",
   "execution_count": 5,
   "metadata": {},
   "outputs": [],
   "source": [
    "def extractBB(filename, homograph , matchNo):\n",
    "    #Create connection with file\n",
    "    try:\n",
    "        conn = sqlite3.connect(filename)    \n",
    "    except Error as e:\n",
    "        print(e)\n",
    "    \n",
    "    #Pull table names out of db \n",
    "    tableNames = pd.read_sql_query(\"SELECT name FROM sqlite_master WHERE type='table';\", conn)\n",
    "    \n",
    "    #Create a dictionary with table names as key and data as values\n",
    "    tableDic = {}\n",
    "\n",
    "    for i in tableNames.values:\n",
    "        tableDic[str(i[0])] = pd.read_sql_query('SELECT * FROM ' + i[0], conn)\n",
    "    \n",
    "    #close connection\n",
    "    conn.close()\n",
    "    \n",
    "    #Create variables with key-value pairs of interest\n",
    "    bbplayer = tableDic['bounding_boxes']\n",
    "    \n",
    "    #Identify x,y coord for player position and create new rows with this\n",
    "    \n",
    "    bbplayer['posX'] = bbplayer.apply(lambda row: (row['x']+(row['width']/2)), axis =1)\n",
    "    bbplayer['posY'] = bbplayer.apply(lambda row: (row['y']+ row['height']), axis =1)\n",
    "\n",
    "    newPlay = appendNewXYDB(bbplayer, homograph, 'posX', 'posY', 'fX','fY')\n",
    "    newPlay['matchID'] = (matchNo + 1)\n",
    "    newPlay = newPlay.drop(['x', 'y', 'width', 'height', 'mask',\n",
    "       'posX', 'posY'],axis = 1)\n",
    "    \n",
    "    return newPlay\n",
    "    \n",
    "  "
   ]
  },
  {
   "cell_type": "markdown",
   "metadata": {},
   "source": [
    "The method below is specifically for use by the example db provided by Jordan. Not applicable to the main dataset."
   ]
  },
  {
   "cell_type": "code",
   "execution_count": 6,
   "metadata": {},
   "outputs": [],
   "source": [
    "def inputXY(row, xcol, ycol):\n",
    "    xy = row[[xcol,ycol]]\n",
    "    scalarxy = np.array([xy[0],xy[1],1]).reshape(3,1)\n",
    "    \n",
    "    return scalarxy\n",
    "\n",
    "def homXY(row):\n",
    "    homarr = row[1:].values\n",
    "    hommat = homarr.reshape((3,3))\n",
    "    \n",
    "    return hommat\n",
    "\n",
    "# function to identify homography row by frame_id\n",
    "\n",
    "# INPUTS: row of bbplayer, homography dataset\n",
    "\n",
    "def getHom(plaRow, homData):\n",
    "    frame = plaRow['frame_id']\n",
    "    homogRow = homData.loc[homData['frame_id']==frame,:]\n",
    "    \n",
    "    return homogRow.squeeze()\n",
    "    \n",
    "\n",
    "def tXY(plaXY, homRow, xtoT, ytoT):\n",
    "    playerScalar = inputXY(plaXY, xtoT, ytoT)\n",
    "    homographyMatrix = homXY(homRow)\n",
    "    \n",
    "    transXY = np.dot(homographyMatrix, playerScalar)\n",
    "    \n",
    "    transXY = transXY/transXY[2]\n",
    "    \n",
    "    return transXY[0:2]\n",
    "\n",
    "def total(playerRow, homographyData, xcoln, ycoln):\n",
    "    player = playerRow\n",
    "    homR = getHom(player, homographyData)\n",
    "    transXY = tXY(player, homR, xcoln, ycoln)\n",
    "    \n",
    "    return transXY\n",
    "\n",
    "def appendNewXY(playerData, homDat, xlab, ylab, newx, newy):\n",
    "    playerData[newx] = playerData.apply(lambda row: total(row, homDat, xlab, ylab)[0][0], axis =1)\n",
    "    playerData[newy] = playerData.apply(lambda row: total(row, homDat, xlab, ylab)[1][0], axis =1)\n",
    "    \n",
    "    return playerData\n",
    "\n",
    "def extractDF(filename):\n",
    "    #Create connection with file\n",
    "    try:\n",
    "        conn = sqlite3.connect(filename)    \n",
    "    except Error as e:\n",
    "        print(e)\n",
    "    \n",
    "    #Pull table names out of db \n",
    "    tableNames = pd.read_sql_query(\"SELECT name FROM sqlite_master WHERE type='table';\", conn)\n",
    "    \n",
    "    #Create a dictionary with table names as key and data as values\n",
    "    tableDic = {}\n",
    "\n",
    "    for i in tableNames.values:\n",
    "        tableDic[str(i[0])] = pd.read_sql_query('SELECT * FROM ' + i[0], conn)\n",
    "    \n",
    "    #close connection\n",
    "    conn.close()\n",
    "    \n",
    "    #Create variables with key-value pairs of interest\n",
    "    bbplayer = tableDic['bounding_boxes']\n",
    "    homog = tableDic['homographies']\n",
    "    bbeveryone = tableDic['bounding_boxes_bk']\n",
    "    \n",
    "    #Identify x,y coord for player position and create new rows with this\n",
    "    \n",
    "    bbplayer['posX'] = bbplayer.apply(lambda row: (row['x']+(row['width']/2)), axis =1)\n",
    "    bbplayer['posY'] = bbplayer.apply(lambda row: (row['y']+ row['height']), axis =1)\n",
    "\n",
    "    newPlay = appendNewXY(bbplayer, homog, 'posX', 'posY', 'fX','fY')\n",
    "    \n",
    "    return newPlay\n",
    "    \n",
    "  "
   ]
  },
  {
   "cell_type": "markdown",
   "metadata": {},
   "source": [
    "# Locating frames with more than 2 players detected\n",
    "\n",
    "Quick fix solution is to drop the frame with the lowest probability score.This method only works when there is 3 players in a frame. If there are frames with 3 or more detected, need to edit code."
   ]
  },
  {
   "cell_type": "code",
   "execution_count": 7,
   "metadata": {},
   "outputs": [],
   "source": [
    "\n",
    "def sortPlayers(dataset):\n",
    "    copy = dataset.copy(deep=True)\n",
    "    order = copy.sort_values(by='frame_id')\n",
    "    footage = order[order['class']=='player']\n",
    "    framePlayers = footage['frame_id'].value_counts()\n",
    "    #frame3 stores the frame number that contains more than two players\n",
    "    frame3 = framePlayers[framePlayers >2].index.values\n",
    "    droppedFrames = []\n",
    "    \n",
    "    for i in frame3:\n",
    "        issueFrame = footage.loc[footage['frame_id']==i].sort_values(by='score',ascending = False)\n",
    "        issueIndex = issueFrame.index[2:]\n",
    "        droppedFrames.append(issueIndex)\n",
    "        footage = footage.drop(index = issueIndex)\n",
    "        \n",
    "#     print(\"Removed rows from frames: \", frame3)\n",
    "#     print(\"Index No. of removed rows: \", droppedFrames)\n",
    "    \n",
    "    return footage"
   ]
  },
  {
   "cell_type": "markdown",
   "metadata": {},
   "source": [
    "# Figure out Player in Far Court and Player in Near Court\n",
    "\n",
    "dividePlayers function:\n",
    "\n",
    "    - Takes in dataset with 2 player rows for each frame\n",
    "    - sorts the dataframe by frame_id, then for each frame_id sorts by fY\n",
    "    - divide dataset to two groups representing each player(odd rows even rows). Using the mean(fY) score, determines which player is near the camera, far from the camera. \n",
    "    - new column 'Court' indicates 'near' or 'far'. "
   ]
  },
  {
   "cell_type": "code",
   "execution_count": 8,
   "metadata": {},
   "outputs": [],
   "source": [
    "def dividePlayers(dataset):\n",
    "    dP = dataset.sort_values(['frame_id','fY']).copy(deep=True)\n",
    "    dP.loc[:,'Court'] = ''\n",
    "    odd = dP.iloc[1::2,:]\n",
    "    even = dP.iloc[0::2,:]\n",
    "    \n",
    "    \n",
    "    if (odd.fY.mean() > even.fY.mean()): # Odd is Closecourt\n",
    "        dP.iloc[1::2,-1] = 0\n",
    "        dP.iloc[0::2,-1] = 1\n",
    "    else:\n",
    "        dP.iloc[1::2,-1] = 1\n",
    "        dP.iloc[0::2,-1] = 0\n",
    "        \n",
    "    \n",
    "    return dP"
   ]
  },
  {
   "cell_type": "markdown",
   "metadata": {},
   "source": [
    "# Transform XY data \n",
    "\n",
    "Creates rotated xy coordinates in invX invY. shows what the player location would be like on the opposite side of the court.\n",
    "\n",
    "Using invX and invY, created ssX,ssY, which are the xy coordinates for both players if they were both on the side of the court close to the camera. \n",
    "\n",
    "Using ssX, ssY. vertDist measures the player's longitudinal distance away from the centre net. latDist measures the lateral distance from the middle of the court. \n",
    "\n"
   ]
  },
  {
   "cell_type": "code",
   "execution_count": 9,
   "metadata": {},
   "outputs": [],
   "source": [
    "def rotate(p, origin = [914.5,1829], degrees=0):\n",
    "    angle = np.deg2rad(degrees)\n",
    "    R = np.array([[np.cos(angle), -np.sin(angle)],\n",
    "                 [np.sin(angle), np.cos(angle)]])\n",
    "    o = np.atleast_2d(origin)\n",
    "    p= np.atleast_2d(p)\n",
    "    return np.squeeze((R @ (p.T-o.T) + o.T).T)\n",
    "\n",
    "def oppXY(data):\n",
    "    dataset = data.copy(deep=True)\n",
    "    #playerData[newy] = playerData.apply(lambda row: total(row, homDat, xlab, ylab)[1][0], axis =1)\n",
    "    dataset['invX'] = dataset.apply(lambda row: rotate(row.loc[['fX','fY']],degrees=180)[0],axis=1)\n",
    "    dataset['invY'] = dataset.apply(lambda row: rotate(row.loc[['fX','fY']],degrees=180)[1],axis=1)\n",
    "    dataset['ssX'] = dataset.apply(lambda row: row['invX'] if row['Court'] ==1 else row['fX'], axis= 1)\n",
    "    dataset['ssY'] = dataset.apply(lambda row: row['invY'] if row['Court'] ==1 else row['fY'], axis= 1)\n",
    "    dataset['vertDist'] = dataset.apply(lambda row: row['ssY'] - 1829,axis=1)\n",
    "    dataset['latDist'] = dataset.apply(lambda row: row['ssX'] - 914.5,axis=1)\n",
    "    dataset = dataset.drop(['x', 'y', 'width', 'height', 'mask', 'class', 'score',\n",
    "       'posX', 'posY'],axis = 1)\n",
    "    return dataset"
   ]
  },
  {
   "cell_type": "code",
   "execution_count": 10,
   "metadata": {},
   "outputs": [],
   "source": [
    "def cleanXY(dataset):\n",
    "    playerSort = sortPlayers(dataset)\n",
    "    dPsort = dividePlayers(playerSort)\n",
    "    transXY = oppXY(dPsort)\n",
    "    \n",
    "    return transXY"
   ]
  },
  {
   "cell_type": "markdown",
   "metadata": {},
   "source": [
    "## Visualisation Tools"
   ]
  },
  {
   "cell_type": "code",
   "execution_count": 11,
   "metadata": {},
   "outputs": [],
   "source": [
    "# Plots one rally\n",
    "\n",
    "def plotTennis(dataset, rallyNo):\n",
    "    rally = dataset[dataset['matchID']==rallyNo]\n",
    "    fig, ax = plt.subplots(figsize=(10,10))\n",
    "    ax.imshow(schema, extent=[0, 1829,3658,0])\n",
    "    ax.scatter(rally.fX, rally.fY, s= 30, c = rally['frame_id'],cmap='inferno')"
   ]
  },
  {
   "cell_type": "code",
   "execution_count": 12,
   "metadata": {},
   "outputs": [],
   "source": [
    "# Plot entire dataset\n",
    "\n",
    "def plotAll(dataset):\n",
    "    fig, ax = plt.subplots(figsize=(10,10))\n",
    "    ax.imshow(schema, extent=[0, 1829,3658,0])\n",
    "    ax.scatter(dataset.fX, dataset.fY, s= 30, c = dataset['frame_id'],cmap='inferno')"
   ]
  },
  {
   "cell_type": "code",
   "execution_count": 13,
   "metadata": {},
   "outputs": [],
   "source": [
    "# Get one frame\n",
    "\n",
    "def getFrame(dataset, rallyNo, frameNo):\n",
    "    rally = dataset[(dataset['matchID']==rallyNo)&(dataset['frame_id']<=frameNo)]\n",
    "    return rally"
   ]
  },
  {
   "cell_type": "code",
   "execution_count": 14,
   "metadata": {},
   "outputs": [],
   "source": [
    "# Get one rally\n",
    "\n",
    "def getRally(dataset, rally):\n",
    "    return dataset[dataset['matchID'] == rally]"
   ]
  },
  {
   "cell_type": "code",
   "execution_count": 9,
   "metadata": {},
   "outputs": [],
   "source": [
    "# plot density map of all coordinates\n",
    "\n",
    "def plotDensity(dataset):\n",
    "    xy = np.vstack([dataset['fX'], dataset['fY']])\n",
    "    z = gaussian_kde(xy)(xy)\n",
    "    fig, ax = plt.subplots(figsize=(10,10))\n",
    "    ax.imshow(schemaHalf, extent=[0, 1829,3658,1830])\n",
    "    ax.scatter(dataset['fX'], dataset['fY'], s= 30, c = z,cmap='inferno')\n",
    "    plt.show()"
   ]
  }
 ],
 "metadata": {
  "kernelspec": {
   "display_name": "Python 3",
   "language": "python",
   "name": "python3"
  },
  "language_info": {
   "codemirror_mode": {
    "name": "ipython",
    "version": 3
   },
   "file_extension": ".py",
   "mimetype": "text/x-python",
   "name": "python",
   "nbconvert_exporter": "python",
   "pygments_lexer": "ipython3",
   "version": "3.9.0"
  }
 },
 "nbformat": 4,
 "nbformat_minor": 4
}
